{
 "cells": [
  {
   "cell_type": "code",
   "execution_count": 1,
   "metadata": {},
   "outputs": [],
   "source": [
    "from selenium import webdriver\n",
    "from selenium.webdriver.common.by import By\n",
    "from selenium.webdriver.support.ui import WebDriverWait\n",
    "from selenium.webdriver.support import expected_conditions as EC"
   ]
  },
  {
   "cell_type": "code",
   "execution_count": 2,
   "metadata": {},
   "outputs": [],
   "source": [
    "# Configuración del WebDriver\n",
    "options = webdriver.ChromeOptions()\n",
    "options.add_argument(\"--start-maximized\")  # Abre el navegador en pantalla completa\n",
    "driver = webdriver.Chrome(options=options)"
   ]
  },
  {
   "cell_type": "code",
   "execution_count": 3,
   "metadata": {},
   "outputs": [
    {
     "name": "stdout",
     "output_type": "stream",
     "text": [
      "✅ NIT ingresado en el formulario.\n"
     ]
    }
   ],
   "source": [
    "# URL de la página\n",
    "url = \"https://linea.ccb.org.co/ccbconsultasrue/consultas/rue/consulta_empresa.aspx\"\n",
    "driver.get(url)\n",
    "\n",
    "# Esperar que el campo del NIT esté disponible\n",
    "wait = WebDriverWait(driver, 10)\n",
    "campo_nit = wait.until(EC.presence_of_element_located((By.ID, \"txtNumId\")))\n",
    "\n",
    "# Ingresar el número de NIT\n",
    "campo_nit.send_keys(\"900474867\")  # Reemplaza con el NIT real que deseas buscar\n",
    "\n",
    "print(\"✅ NIT ingresado en el formulario.\")"
   ]
  },
  {
   "cell_type": "code",
   "execution_count": 4,
   "metadata": {},
   "outputs": [
    {
     "name": "stdout",
     "output_type": "stream",
     "text": [
      "✅ Tipo de identificación 'NIT' seleccionado.\n"
     ]
    }
   ],
   "source": [
    "from selenium.webdriver.support.ui import Select\n",
    "\n",
    "# Esperar que el select de tipo de identificación esté disponible\n",
    "select_tipo_id = wait.until(EC.presence_of_element_located((By.ID, \"ddlTipId\")))\n",
    "\n",
    "# Convertirlo en un objeto Select y seleccionar \"NIT\"\n",
    "select = Select(select_tipo_id)\n",
    "select.select_by_value(\"02\")  # \"02\" es el valor correspondiente a \"NIT\"\n",
    "\n",
    "print(\"✅ Tipo de identificación 'NIT' seleccionado.\")\n"
   ]
  },
  {
   "cell_type": "code",
   "execution_count": 5,
   "metadata": {},
   "outputs": [
    {
     "name": "stdout",
     "output_type": "stream",
     "text": [
      "✅ Se hizo clic en el botón 'Buscar'. Esperando resultados...\n"
     ]
    }
   ],
   "source": [
    "# Esperar que el botón de búsqueda esté disponible\n",
    "boton_buscar = wait.until(EC.element_to_be_clickable((By.ID, \"btnIr\")))\n",
    "\n",
    "# Hacer clic en el botón de búsqueda\n",
    "boton_buscar.click()\n",
    "\n",
    "print(\"✅ Se hizo clic en el botón 'Buscar'. Esperando resultados...\")\n"
   ]
  },
  {
   "cell_type": "code",
   "execution_count": 6,
   "metadata": {},
   "outputs": [
    {
     "name": "stdout",
     "output_type": "stream",
     "text": [
      "✅ Datos extraídos:\n",
      "{'camara_comercio': 'HUILA', 'matricula': '0000224776', 'razon_social': 'ENTER TELECOMUNICACIONES BANDA ANCHA SAS', 'organizacion_juridica': 'SOCIEDAD ó PERSONA JURIDICA PRINCIPAL ó ESAL', 'ultimo_anio_renovado': '2025', 'estado': 'ACTIVA'}\n"
     ]
    }
   ],
   "source": [
    "import time\n",
    "\n",
    "# Esperar que la tabla de resultados aparezca\n",
    "try:\n",
    "    tabla_resultados = wait.until(EC.presence_of_element_located((By.ID, \"dtgResultados\")))\n",
    "    filas = tabla_resultados.find_elements(By.TAG_NAME, \"tr\")\n",
    "\n",
    "    # Extraer datos de la primera fila después del encabezado\n",
    "    if len(filas) > 1:\n",
    "        columnas = filas[1].find_elements(By.TAG_NAME, \"td\")\n",
    "\n",
    "        empresa = {\n",
    "            \"camara_comercio\": columnas[0].text.strip(),\n",
    "            \"matricula\": columnas[1].text.strip(),\n",
    "            \"razon_social\": columnas[2].text.strip(),\n",
    "            \"organizacion_juridica\": columnas[3].text.strip(),\n",
    "            \"ultimo_anio_renovado\": columnas[4].text.strip(),\n",
    "            \"estado\": columnas[5].text.strip()\n",
    "        }\n",
    "\n",
    "        print(\"✅ Datos extraídos:\")\n",
    "        print(empresa)\n",
    "    else:\n",
    "        print(\"⚠️ No se encontraron resultados en la tabla.\")\n",
    "\n",
    "except Exception as e:\n",
    "    print(\"❌ Error extrayendo la información:\", str(e))"
   ]
  },
  {
   "cell_type": "code",
   "execution_count": 7,
   "metadata": {},
   "outputs": [],
   "source": [
    "#cerrar el navegador\n",
    "driver.quit()"
   ]
  }
 ],
 "metadata": {
  "kernelspec": {
   "display_name": ".venv",
   "language": "python",
   "name": "python3"
  },
  "language_info": {
   "codemirror_mode": {
    "name": "ipython",
    "version": 3
   },
   "file_extension": ".py",
   "mimetype": "text/x-python",
   "name": "python",
   "nbconvert_exporter": "python",
   "pygments_lexer": "ipython3",
   "version": "3.12.4"
  }
 },
 "nbformat": 4,
 "nbformat_minor": 2
}
