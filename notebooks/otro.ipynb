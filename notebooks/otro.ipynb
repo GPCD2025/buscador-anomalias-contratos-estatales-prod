{
 "cells": [
  {
   "cell_type": "code",
   "execution_count": 1,
   "metadata": {},
   "outputs": [],
   "source": [
    "import pandas as pd"
   ]
  },
  {
   "cell_type": "code",
   "execution_count": 2,
   "metadata": {},
   "outputs": [
    {
     "name": "stderr",
     "output_type": "stream",
     "text": [
      "C:\\Users\\jacga\\AppData\\Local\\Temp\\ipykernel_27968\\3979467579.py:3: DtypeWarning: Columns (8,15,16,31,32,34,37) have mixed types. Specify dtype option on import or set low_memory=False.\n",
      "  df = pd.read_csv('SECOP_II_-_Procesos_de_Contrataci_n_20250208.csv')\n"
     ]
    }
   ],
   "source": [
    "# Read the data from the CSV file\n",
    "\n",
    "df = pd.read_csv('SECOP_II_-_Procesos_de_Contrataci_n_20250208.csv')\n",
    "\n",
    "\n",
    "df  = df[(df['Fecha de Publicacion del Proceso'] >= '01-01-2024') & (df['Fecha de Publicacion del Proceso'] <= '08-02-2025')]"
   ]
  },
  {
   "cell_type": "code",
   "execution_count": 3,
   "metadata": {},
   "outputs": [],
   "source": [
    "#filtrar por la columna Ciudad Entidad que tiene como ciudad Bogota\n",
    "df_bogota = df[df['Ciudad Entidad'] == 'Bogotá']\n",
    "\n"
   ]
  },
  {
   "cell_type": "code",
   "execution_count": 4,
   "metadata": {},
   "outputs": [],
   "source": [
    "# verificar que Nit Entidad no tenga valores nulos, si los tiene, eliminar las filas\n",
    "df_bogota = df_bogota.dropna(subset=['NIT del Proveedor Adjudicado'])\n",
    "df_bogota.to_csv('SECOP_II_-_Procesos_de_Contrataci_n_20250208_Bogota.csv', index=False)"
   ]
  },
  {
   "cell_type": "code",
   "execution_count": 5,
   "metadata": {},
   "outputs": [
    {
     "data": {
      "text/plain": [
       "(749752, 59)"
      ]
     },
     "execution_count": 5,
     "metadata": {},
     "output_type": "execute_result"
    }
   ],
   "source": [
    "#filtrar por la columna estado_resumen que tiene como valor \"Adjudicado\"\n",
    "df_adjudicado = df_bogota[df_bogota['Estado Resumen'] == 'Adjudicado']\n",
    "\n",
    "df_adjudicado.shape"
   ]
  },
  {
   "cell_type": "code",
   "execution_count": 6,
   "metadata": {},
   "outputs": [],
   "source": [
    "import re\n",
    "\n",
    "\n",
    "nit_regex_completo = re.compile(r\"^(8|9)\\d{8,9}(-\\d)?$|^(8|9)\\d{2}(\\.\\d{3}){2}(-\\d)?$\")\n",
    "df_adjudicado = df_adjudicado[df_adjudicado['NIT del Proveedor Adjudicado'].str.match(nit_regex_completo)]"
   ]
  },
  {
   "cell_type": "code",
   "execution_count": 7,
   "metadata": {},
   "outputs": [
    {
     "name": "stdout",
     "output_type": "stream",
     "text": [
      "Entidad                                                   object\n",
      "Nit Entidad                                               object\n",
      "Departamento Entidad                                      object\n",
      "Ciudad Entidad                                            object\n",
      "OrdenEntidad                                              object\n",
      "Entidad Centralizada                                      object\n",
      "ID del Proceso                                            object\n",
      "Referencia del Proceso                                    object\n",
      "PCI                                                       object\n",
      "ID del Portafolio                                         object\n",
      "Nombre del Procedimiento                                  object\n",
      "Descripción del Procedimiento                             object\n",
      "Fase                                                      object\n",
      "Fecha de Publicacion del Proceso                          object\n",
      "Fecha de Ultima Publicación                               object\n",
      "Fecha de Publicacion (Fase Planeacion Precalificacion)    object\n",
      "Fecha de Publicacion (Fase Seleccion Precalificacion)     object\n",
      "Fecha de Publicacion (Manifestacion de Interes)           object\n",
      "Fecha de Publicacion (Fase Borrador)                      object\n",
      "Fecha de Publicacion (Fase Seleccion)                     object\n",
      "Precio Base                                               object\n",
      "Modalidad de Contratacion                                 object\n",
      "Justificación Modalidad de Contratación                   object\n",
      "Duracion                                                  object\n",
      "Unidad de Duracion                                        object\n",
      "Fecha de Recepcion de Respuestas                          object\n",
      "Fecha de Apertura de Respuesta                            object\n",
      "Fecha de Apertura Efectiva                                object\n",
      "Ciudad de la Unidad de Contratación                       object\n",
      "Nombre de la Unidad de Contratación                       object\n",
      "Proveedores Invitados                                     object\n",
      "Proveedores con Invitacion Directa                        object\n",
      "Visualizaciones del Procedimiento                         object\n",
      "Proveedores que Manifestaron Interes                       int64\n",
      "Respuestas al Procedimiento                               object\n",
      "Respuestas Externas                                        int64\n",
      "Conteo de Respuestas a Ofertas                             int64\n",
      "Proveedores Unicos con Respuestas                         object\n",
      "Numero de Lotes                                            int64\n",
      "Estado del Procedimiento                                  object\n",
      "ID Estado del Procedimiento                                int64\n",
      "Adjudicado                                                object\n",
      "ID Adjudicacion                                           object\n",
      "CodigoProveedor                                           object\n",
      "Departamento Proveedor                                    object\n",
      "Ciudad Proveedor                                          object\n",
      "Fecha Adjudicacion                                        object\n",
      "Valor Total Adjudicacion                                  object\n",
      "Nombre del Adjudicador                                    object\n",
      "Nombre del Proveedor Adjudicado                           object\n",
      "NIT del Proveedor Adjudicado                              object\n",
      "Codigo Principal de Categoria                             object\n",
      "Estado de Apertura del Proceso                            object\n",
      "Tipo de Contrato                                          object\n",
      "Subtipo de Contrato                                       object\n",
      "Categorias Adicionales                                    object\n",
      "URLProceso                                                object\n",
      "Codigo Entidad                                            object\n",
      "Estado Resumen                                            object\n",
      "dtype: object\n",
      "                                          Entidad Nit Entidad  \\\n",
      "37                                          ICANH   830067892   \n",
      "107  DIRECCION DE IMPUESTOS Y ADUANAS NACIONALES*   800197268   \n",
      "108  DIRECCION DE IMPUESTOS Y ADUANAS NACIONALES*   800197268   \n",
      "111                                        INVIAS   800215807   \n",
      "112                                        INVIAS   800215807   \n",
      "\n",
      "           Departamento Entidad Ciudad Entidad OrdenEntidad  \\\n",
      "37   Distrito Capital de Bogota         Bogota     Nacional   \n",
      "107  Distrito Capital de Bogota         Bogota     Nacional   \n",
      "108  Distrito Capital de Bogota         Bogota     Nacional   \n",
      "111  Distrito Capital de Bogota         Bogota     Nacional   \n",
      "112  Distrito Capital de Bogota         Bogota     Nacional   \n",
      "\n",
      "    Entidad Centralizada   ID del Proceso Referencia del Proceso  PCI  \\\n",
      "37          Centralizada  CO1.REQ.3020131             MC-06-2022  NaN   \n",
      "107      Descentralizada  CO1.REQ.6296595        IMC-89-005-2024  NaN   \n",
      "108      Descentralizada  CO1.REQ.6296595        IMC-89-005-2024  NaN   \n",
      "111         Centralizada   CO1.REQ.501833     IP-DT-CAL-008-2018  NaN   \n",
      "112         Centralizada   CO1.REQ.501833     IP-DT-CAL-008-2018  NaN   \n",
      "\n",
      "    ID del Portafolio  ...           Nombre del Proveedor Adjudicado  \\\n",
      "37   CO1.BDOS.2939327  ...  ENTER TELECOMUNICACIONES BANDA ANCHA SAS   \n",
      "107  CO1.BDOS.6174047  ...                            COINPROL S.A.S   \n",
      "108  CO1.BDOS.6174047  ...                            COINPROL S.A.S   \n",
      "111   CO1.BDOS.483919  ...                              BIOSERVICIOS   \n",
      "112   CO1.BDOS.483919  ...                              BIOSERVICIOS   \n",
      "\n",
      "    NIT del Proveedor Adjudicado Codigo Principal de Categoria  \\\n",
      "37                     900474867                   V1.83121700   \n",
      "107                    900893525                   V1.72101507   \n",
      "108                    900893525                   V1.72101507   \n",
      "111                    810001366                   V1.76111500   \n",
      "112                    810001366                   V1.76111500   \n",
      "\n",
      "    Estado de Apertura del Proceso         Tipo de Contrato  \\\n",
      "37                         Cerrado  Prestacion de servicios   \n",
      "107                        Cerrado  Prestacion de servicios   \n",
      "108                        Cerrado  Prestacion de servicios   \n",
      "111                        Cerrado  Prestacion de servicios   \n",
      "112                        Cerrado  Prestacion de servicios   \n",
      "\n",
      "    Subtipo de Contrato  Categorias Adicionales  \\\n",
      "37          No Definido  V181112100, V181112101   \n",
      "107         No Definido             No definido   \n",
      "108         No Definido             No definido   \n",
      "111         No Definido              V190101700   \n",
      "112         No Definido              V190101700   \n",
      "\n",
      "                                            URLProceso Codigo Entidad  \\\n",
      "37   https://community.secop.gov.co/Public/Tenderin...    701,159,022   \n",
      "107  https://community.secop.gov.co/Public/Tenderin...    700,795,065   \n",
      "108  https://community.secop.gov.co/Public/Tenderin...    700,795,065   \n",
      "111  https://community.secop.gov.co/Public/Tenderin...    700,676,059   \n",
      "112  https://community.secop.gov.co/Public/Tenderin...    700,676,059   \n",
      "\n",
      "    Estado Resumen  \n",
      "37      Adjudicado  \n",
      "107     Adjudicado  \n",
      "108     Adjudicado  \n",
      "111     Adjudicado  \n",
      "112     Adjudicado  \n",
      "\n",
      "[5 rows x 54 columns]\n"
     ]
    }
   ],
   "source": [
    "#coger tocas las columnas texto, quitar las vocales con tildes y dejarlas sin tildes analizando primero el tipo de columna texto y en un ciclo hacer la tarea\n",
    "print(df_adjudicado.dtypes)\n",
    "df_adjudicado = df_adjudicado.select_dtypes(include=['object'])\n",
    "df_adjudicado = df_adjudicado.apply(lambda x: x.str.normalize('NFKD').str.encode('ascii', errors='ignore').str.decode('utf-8'))\n",
    "print(df_adjudicado.head())"
   ]
  },
  {
   "cell_type": "code",
   "execution_count": 8,
   "metadata": {},
   "outputs": [],
   "source": [
    "df_adjudicado.to_csv('SECOP_II_-_Procesos_de_Contrataci_n_20250208_Adjudicado.csv', index=False)"
   ]
  },
  {
   "cell_type": "code",
   "execution_count": 10,
   "metadata": {},
   "outputs": [],
   "source": [
    "#pasar las 10 primeras filas a un archivo json\n",
    "df_adjudicado.head(10).to_json('SECOP_II_-_Procesos_de_Contrataci_n_20250208_Adjudicado.json', orient='records')\n"
   ]
  },
  {
   "cell_type": "code",
   "execution_count": 9,
   "metadata": {},
   "outputs": [
    {
     "data": {
      "text/plain": [
       "(160158, 54)"
      ]
     },
     "execution_count": 9,
     "metadata": {},
     "output_type": "execute_result"
    }
   ],
   "source": [
    "df_adjudicado.shape"
   ]
  }
 ],
 "metadata": {
  "kernelspec": {
   "display_name": "Python 3",
   "language": "python",
   "name": "python3"
  },
  "language_info": {
   "codemirror_mode": {
    "name": "ipython",
    "version": 3
   },
   "file_extension": ".py",
   "mimetype": "text/x-python",
   "name": "python",
   "nbconvert_exporter": "python",
   "pygments_lexer": "ipython3",
   "version": "3.12.4"
  }
 },
 "nbformat": 4,
 "nbformat_minor": 2
}
