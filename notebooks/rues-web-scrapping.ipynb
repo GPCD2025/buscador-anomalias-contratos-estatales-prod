{
 "cells": [
  {
   "cell_type": "code",
   "execution_count": 93,
   "metadata": {},
   "outputs": [],
   "source": [
    "from selenium import webdriver\n",
    "from selenium.webdriver.common.by import By\n",
    "from selenium.webdriver.support.ui import WebDriverWait\n",
    "from selenium.webdriver.support import expected_conditions as EC\n",
    "from bs4 import BeautifulSoup\n",
    "import time"
   ]
  },
  {
   "cell_type": "code",
   "execution_count": 94,
   "metadata": {},
   "outputs": [
    {
     "name": "stdout",
     "output_type": "stream",
     "text": [
      "Página cargada correctamente\n"
     ]
    }
   ],
   "source": [
    "# Configurar el navegador (Chrome en este caso)\n",
    "options = webdriver.ChromeOptions()\n",
    "options.add_argument(\"--start-maximized\")  # Maximiza la ventana\n",
    "\n",
    "# Inicializar el WebDriver (Asegúrate de tener el driver adecuado instalado)\n",
    "driver = webdriver.Chrome(options=options)\n",
    "\n",
    "# URL de la página de consulta\n",
    "url = \"https://www.rues.org.co/?old=true\"\n",
    "\n",
    "# Abrir la página\n",
    "driver.get(url)\n",
    "\n",
    "# Esperar a que la página cargue completamente\n",
    "WebDriverWait(driver, 10).until(EC.presence_of_element_located((By.ID, \"txtNIT\")))\n",
    "\n",
    "print(\"Página cargada correctamente\")\n"
   ]
  },
  {
   "cell_type": "code",
   "execution_count": 95,
   "metadata": {},
   "outputs": [
    {
     "name": "stdout",
     "output_type": "stream",
     "text": [
      "✅ Página recargada. Modal evitado.\n"
     ]
    }
   ],
   "source": [
    "# Recargar la página para evitar que aparezca el modal\n",
    "driver.refresh()\n",
    "\n",
    "# Esperar a que la página cargue completamente\n",
    "WebDriverWait(driver, 10).until(\n",
    "    EC.presence_of_element_located((By.ID, \"txtNIT\"))\n",
    ")\n",
    "\n",
    "print(\"✅ Página recargada. Modal evitado.\")\n",
    "\n"
   ]
  },
  {
   "cell_type": "code",
   "execution_count": 96,
   "metadata": {},
   "outputs": [
    {
     "name": "stdout",
     "output_type": "stream",
     "text": [
      "Consulta realizada correctamente\n"
     ]
    }
   ],
   "source": [
    "# Número de matrícula a buscar (Ejemplo: \"0000224776\")\n",
    "nit_empresa = \"900474867\"\n",
    "\n",
    "# Encontrar el campo de entrada y escribir la matrícula\n",
    "campo_nit = driver.find_element(By.ID, \"txtNIT\")\n",
    "campo_nit.clear()  # Limpiar el campo antes de escribir\n",
    "campo_nit.send_keys(nit_empresa)  # Ingresar la matrícula\n",
    "\n",
    "# Hacer clic en el botón de búsqueda\n",
    "boton_buscar = driver.find_element(By.ID, \"btnConsultaNIT\")\n",
    "boton_buscar.click()\n",
    "\n",
    "# Esperar a que los resultados carguen\n",
    "WebDriverWait(driver, 10).until(EC.presence_of_element_located((By.ID, \"rmTable2\")))\n",
    "\n",
    "print(\"Consulta realizada correctamente\")\n",
    "\n",
    "#hacer un delay de 3 segundos\n",
    "time.sleep(3)\n"
   ]
  },
  {
   "cell_type": "code",
   "execution_count": 97,
   "metadata": {},
   "outputs": [
    {
     "name": "stdout",
     "output_type": "stream",
     "text": [
      "Datos extraídos de la tabla de resultados:\n",
      "{'NIT': 'NIT 900474867 - 7', 'Razón Social': 'ENTER TELECOMUNICACIONES BANDA ANCHA SAS', 'Sigla': '', 'Municipio/Dpto': 'SAN AGUSTIN / HUILA', 'Categoría': 'SOCIEDAD ó PERSONA JURIDICA PRINCIPAL ó ESAL'}\n"
     ]
    }
   ],
   "source": [
    "# Esperar que la tabla de resultados esté visible\n",
    "WebDriverWait(driver, 20).until(EC.presence_of_element_located((By.ID, \"rmTable2\")))\n",
    "\n",
    "# Buscar la fila de la tabla\n",
    "fila_resultado = driver.find_element(By.XPATH, \"//table[@id='rmTable2']/tbody/tr\")\n",
    "\n",
    "# Extraer los datos de la fila\n",
    "nit = fila_resultado.find_elements(By.TAG_NAME, \"td\")[0].text.strip()\n",
    "razon_social = fila_resultado.find_elements(By.TAG_NAME, \"td\")[1].text.strip()\n",
    "sigla = fila_resultado.find_elements(By.TAG_NAME, \"td\")[2].text.strip()\n",
    "municipio_departamento = fila_resultado.find_elements(By.TAG_NAME, \"td\")[3].text.strip()\n",
    "categoria = fila_resultado.find_elements(By.TAG_NAME, \"td\")[4].text.strip()\n",
    "\n",
    "# Guardar la información en un diccionario\n",
    "datos_empresa = {\n",
    "    \"NIT\": nit,\n",
    "    \"Razón Social\": razon_social,\n",
    "    \"Sigla\": sigla,\n",
    "    \"Municipio/Dpto\": municipio_departamento,\n",
    "    \"Categoría\": categoria\n",
    "}\n",
    "\n",
    "# Imprimir los datos obtenidos\n",
    "print(\"Datos extraídos de la tabla de resultados:\")\n",
    "print(datos_empresa)\n",
    "\n",
    " \n",
    "\n"
   ]
  },
  {
   "cell_type": "code",
   "execution_count": 98,
   "metadata": {},
   "outputs": [
    {
     "name": "stdout",
     "output_type": "stream",
     "text": [
      "🔹 Celda del NIT no interactuable directamente, probando con JavaScript.\n",
      "✅ Redirigido correctamente a la página de detalles.\n"
     ]
    }
   ],
   "source": [
    "from selenium.webdriver.common.action_chains import ActionChains\n",
    "\n",
    "# Encontrar la celda del NIT que contiene el botón\n",
    "celda_nit = fila_resultado.find_element(By.XPATH, \".//td[1]\")  # Primera columna (NIT)\n",
    "\n",
    "# Realizar un scroll hacia el elemento para asegurarnos de que es visible\n",
    "driver.execute_script(\"arguments[0].scrollIntoView();\", celda_nit)\n",
    "\n",
    "# Intentar hacer clic en la celda (esto podría abrir el detalle)\n",
    "try:\n",
    "    celda_nit.click()\n",
    "except Exception:\n",
    "    print(\"🔹 Celda del NIT no interactuable directamente, probando con JavaScript.\")\n",
    "\n",
    "    # Si el click normal no funciona, usar JavaScript para forzar la interacción\n",
    "    driver.execute_script(\"arguments[0].click();\", celda_nit)\n",
    "\n",
    "# Esperar a que la página de detalles cargue completamente\n",
    "WebDriverWait(driver, 10).until(EC.presence_of_element_located((By.CLASS_NAME, \"card-title\")))\n",
    "\n",
    "print(\"✅ Redirigido correctamente a la página de detalles.\")\n",
    "\n"
   ]
  },
  {
   "cell_type": "code",
   "execution_count": 99,
   "metadata": {},
   "outputs": [
    {
     "name": "stdout",
     "output_type": "stream",
     "text": [
      "🔹 Enlace no interactuable directamente, probando con JavaScript.\n",
      "✅ Redirigido correctamente a la página de detalles.\n"
     ]
    }
   ],
   "source": [
    "# Obtener el enlace ya presente en la página\n",
    "enlace_detalle = driver.find_element(By.XPATH, \"//a[contains(@href, 'ConsultarDetalleRM')]\")\n",
    "\n",
    "# Realizar un scroll hacia el elemento para asegurarnos de que es visible\n",
    "driver.execute_script(\"arguments[0].scrollIntoView();\", enlace_detalle)\n",
    "\n",
    "# Hacer clic en el enlace para abrir la página de detalles\n",
    "try:\n",
    "    enlace_detalle.click()\n",
    "except Exception:\n",
    "    print(\"🔹 Enlace no interactuable directamente, probando con JavaScript.\")\n",
    "    driver.execute_script(\"arguments[0].click();\", enlace_detalle)\n",
    "\n",
    "# Esperar a que la nueva página cargue completamente\n",
    "WebDriverWait(driver, 10).until(EC.presence_of_element_located((By.CLASS_NAME, \"card-title\")))\n",
    "\n",
    "print(\"✅ Redirigido correctamente a la página de detalles.\")\n"
   ]
  },
  {
   "cell_type": "code",
   "execution_count": 100,
   "metadata": {},
   "outputs": [
    {
     "name": "stdout",
     "output_type": "stream",
     "text": [
      "✅ Variables creadas correctamente:\n",
      "Numero de Matricula: 224776\n",
      "Último Año Renovado: 2025\n",
      "Fecha de Renovación: 20250103\n",
      "Fecha de Matrícula: 20111031\n",
      "Fecha de Vigencia: Indefinida\n",
      "Estado de la Matrícula: ACTIVA\n",
      "Motivo Cancelación: NORMAL\n",
      "Tipo de Sociedad: SOCIEDAD COMERCIAL\n",
      "Tipo de Organización: SOCIEDADES POR ACCIONES SIMPLIFICADAS SAS\n",
      "Categoría de la Matrícula: SOCIEDAD ó PERSONA JURIDICA PRINCIPAL ó ESAL\n",
      "Fecha Última Actualización: 20250103\n",
      "Emprendimiento Social: N\n"
     ]
    }
   ],
   "source": [
    "#hacer un delay de 3 segundos\n",
    "time.sleep(3)\n",
    "\n",
    "# Esperar a que la tabla de información esté disponible\n",
    "# Esperar a que la tabla de información esté disponible\n",
    "WebDriverWait(driver, 10).until(\n",
    "    EC.presence_of_element_located((By.CLASS_NAME, \"table\"))\n",
    ")\n",
    "\n",
    "# Buscar la tabla dentro de la sección correspondiente\n",
    "tabla_info = driver.find_element(By.XPATH, \"//div[contains(@class, 'card-text')]/table\")\n",
    "\n",
    "# Extraer las filas de la tabla\n",
    "filas = tabla_info.find_elements(By.TAG_NAME, \"tr\")\n",
    "\n",
    "# Diccionario para almacenar los datos extraídos temporalmente\n",
    "datos_empresa = {}\n",
    "\n",
    "# Recorrer las filas de la tabla\n",
    "for fila in filas:\n",
    "    columnas = fila.find_elements(By.TAG_NAME, \"td\")\n",
    "    if len(columnas) == 2:\n",
    "        clave = columnas[0].text.strip()\n",
    "        valor = columnas[1].text.strip()\n",
    "        datos_empresa[clave] = valor\n",
    "\n",
    "# Crear variables individuales a partir del diccionario\n",
    "numero_matricula = datos_empresa.get(\"Numero de Matricula\", \"N/A\")\n",
    "ultimo_anio_renovado = datos_empresa.get(\"Último Año Renovado\", \"N/A\")\n",
    "fecha_renovacion = datos_empresa.get(\"Fecha de Renovacion\", \"N/A\")\n",
    "fecha_matricula = datos_empresa.get(\"Fecha de Matricula\", \"N/A\")\n",
    "fecha_vigencia = datos_empresa.get(\"Fecha de Vigencia\", \"N/A\")\n",
    "estado_matricula = datos_empresa.get(\"Estado de la matricula\", \"N/A\")\n",
    "motivo_cancelacion = datos_empresa.get(\"Motivo Cancelación\", \"N/A\")\n",
    "tipo_sociedad = datos_empresa.get(\"Tipo de Sociedad\", \"N/A\")\n",
    "tipo_organizacion = datos_empresa.get(\"Tipo de Organización\", \"N/A\")\n",
    "categoria_matricula = datos_empresa.get(\"Categoria de la Matricula\", \"N/A\")\n",
    "fecha_ultima_actualizacion = datos_empresa.get(\"Fecha Ultima Actualización\", \"N/A\")\n",
    "emprendimiento_social = datos_empresa.get(\"Emprendimiento Social\", \"N/A\")\n",
    "\n",
    "# Imprimir las variables creadas\n",
    "print(\"✅ Variables creadas correctamente:\")\n",
    "print(f\"Numero de Matricula: {numero_matricula}\")\n",
    "print(f\"Último Año Renovado: {ultimo_anio_renovado}\")\n",
    "print(f\"Fecha de Renovación: {fecha_renovacion}\")\n",
    "print(f\"Fecha de Matrícula: {fecha_matricula}\")\n",
    "print(f\"Fecha de Vigencia: {fecha_vigencia}\")\n",
    "print(f\"Estado de la Matrícula: {estado_matricula}\")\n",
    "print(f\"Motivo Cancelación: {motivo_cancelacion}\")\n",
    "print(f\"Tipo de Sociedad: {tipo_sociedad}\")\n",
    "print(f\"Tipo de Organización: {tipo_organizacion}\")\n",
    "print(f\"Categoría de la Matrícula: {categoria_matricula}\")\n",
    "print(f\"Fecha Última Actualización: {fecha_ultima_actualizacion}\")\n",
    "print(f\"Emprendimiento Social: {emprendimiento_social}\")\n",
    "\n"
   ]
  },
  {
   "cell_type": "code",
   "execution_count": 101,
   "metadata": {},
   "outputs": [
    {
     "name": "stdout",
     "output_type": "stream",
     "text": [
      "✅ Actividades Económicas extraídas correctamente:\n",
      "- Código: 6110, Descripción: Actividades de telecomunicaciones alámbricas\n",
      "- Código: 6120, Descripción: Actividades de telecomunicaciones inalámbricas\n",
      "- Código: 6190, Descripción: Otras actividades de telecomunicaciones\n"
     ]
    }
   ],
   "source": [
    "# Esperar a que la sección de Actividades Económicas esté disponible\n",
    "WebDriverWait(driver, 10).until(\n",
    "    EC.presence_of_element_located((By.XPATH, \"//div[contains(@class, 'card border-info')]//ul[@class='cleanlist']\"))\n",
    ")\n",
    "\n",
    "# Ubicar la lista de actividades económicas\n",
    "lista_actividades = driver.find_elements(By.XPATH, \"//div[contains(@class, 'card border-info')]//ul[@class='cleanlist']/li\")\n",
    "\n",
    "# Lista para almacenar las actividades económicas como diccionarios { \"Código\": ..., \"Descripción\": ... }\n",
    "actividades_economicas = []\n",
    "\n",
    "# Recorrer cada elemento de la lista y extraer el código y la descripción\n",
    "for actividad in lista_actividades:\n",
    "    texto = actividad.text.strip()\n",
    "    if texto:  # Evitar elementos vacíos\n",
    "        partes = texto.split(\" \", 1)  # Separar por el primer espacio (para código y descripción)\n",
    "        if len(partes) == 2:\n",
    "            codigo, descripcion = partes\n",
    "            actividades_economicas.append({\"Código\": codigo, \"Descripción\": descripcion})\n",
    "        else:\n",
    "            # Si no hay descripción, solo almacenar el código\n",
    "            actividades_economicas.append({\"Código\": partes[0], \"Descripción\": \"No especificada\"})\n",
    "\n",
    "# Mostrar las actividades extraídas\n",
    "print(\"✅ Actividades Económicas extraídas correctamente:\")\n",
    "for actividad in actividades_economicas:\n",
    "    print(f\"- Código: {actividad['Código']}, Descripción: {actividad['Descripción']}\")\n",
    "\n",
    "\n",
    "\n"
   ]
  },
  {
   "cell_type": "code",
   "execution_count": 102,
   "metadata": {},
   "outputs": [
    {
     "name": "stdout",
     "output_type": "stream",
     "text": [
      "✅ Se ha hecho clic en el botón 'Representantes Legales'.\n"
     ]
    }
   ],
   "source": [
    "# Esperar a que el botón \"Representantes Legales\" esté presente y sea interactuable\n",
    "boton_representantes = WebDriverWait(driver, 10).until(\n",
    "    EC.element_to_be_clickable((By.ID, \"Facultades\"))\n",
    ")\n",
    "\n",
    "# Hacer clic en el botón\n",
    "boton_representantes.click()\n",
    "\n",
    "print(\"✅ Se ha hecho clic en el botón 'Representantes Legales'.\")\n"
   ]
  },
  {
   "cell_type": "code",
   "execution_count": null,
   "metadata": {},
   "outputs": [],
   "source": [
    "# Esperar a que el contenedor de Facultades esté presente en la página\n",
    "WebDriverWait(driver, 10).until(\n",
    "    EC.presence_of_element_located((By.ID, \"txtFacultades\"))\n",
    ")\n",
    "\n",
    "# Obtener el contenido del div donde está la información de Representantes Legales y Facultades\n",
    "contenedor_facultades = driver.find_element(By.ID, \"txtFacultades\")\n",
    "\n",
    "# Extraer el texto, eliminando etiquetas HTML y caracteres especiales\n",
    "informacion_representantes = contenedor_facultades.text.replace(\"\\n\", \" \").replace(\"\\xa0\", \" \").strip()\n",
    "\n",
    "# Mostrar la información extraída\n",
    "print(\"✅ Información de Representantes Legales y Facultades extraída correctamente:\")\n",
    "print(informacion_representantes)\n",
    "\n"
   ]
  },
  {
   "cell_type": "code",
   "execution_count": null,
   "metadata": {},
   "outputs": [],
   "source": [
    "from selenium.webdriver.common.by import By\n",
    "from selenium.webdriver.support.ui import WebDriverWait\n",
    "from selenium.webdriver.support import expected_conditions as EC\n",
    "\n",
    "# Esperar a que el botón \"Enviar\" esté presente y sea interactuable\n",
    "boton_enviar = WebDriverWait(driver, 10).until(\n",
    "    EC.element_to_be_clickable((By.XPATH, \"//input[@type='submit' and @value='Enviar']\"))\n",
    ")\n",
    "\n",
    "# Hacer clic en el botón\n",
    "boton_enviar.click()\n",
    "\n",
    "print(\"✅ Se ha hecho clic en el botón 'Enviar'.\")"
   ]
  },
  {
   "cell_type": "code",
   "execution_count": null,
   "metadata": {},
   "outputs": [],
   "source": [
    "#cerrar el navegador\n",
    "#driver.quit()"
   ]
  },
  {
   "cell_type": "code",
   "execution_count": 103,
   "metadata": {},
   "outputs": [
    {
     "name": "stdout",
     "output_type": "stream",
     "text": [
      "{\n",
      "    \"NIT\": \"900474867\",\n",
      "    \"Razón Social\": \"ENTER TELECOMUNICACIONES BANDA ANCHA SAS\",\n",
      "    \"Municipio/Departamento\": \"SAN AGUSTIN / HUILA\",\n",
      "    \"Número de Matrícula\": \"224776\",\n",
      "    \"Último Año Renovado\": \"2025\",\n",
      "    \"Fecha de Renovación\": \"20250103\",\n",
      "    \"Fecha de Matrícula\": \"20111031\",\n",
      "    \"Fecha de Vigencia\": \"Indefinida\",\n",
      "    \"Estado de la Matrícula\": \"ACTIVA\",\n",
      "    \"Motivo de Cancelación\": \"NORMAL\",\n",
      "    \"Tipo de Sociedad\": \"SOCIEDAD COMERCIAL\",\n",
      "    \"Tipo de Organización\": \"SOCIEDADES POR ACCIONES SIMPLIFICADAS SAS\",\n",
      "    \"Categoría de la Matrícula\": \"SOCIEDAD ó PERSONA JURIDICA PRINCIPAL ó ESAL\",\n",
      "    \"Fecha Última Actualización\": \"20250103\",\n",
      "    \"Emprendimiento Social\": \"N\",\n",
      "    \"Actividades Económicas\": [\n",
      "        {\n",
      "            \"Código\": \"6110\",\n",
      "            \"Descripción\": \"Actividades de telecomunicaciones alámbricas\"\n",
      "        },\n",
      "        {\n",
      "            \"Código\": \"6120\",\n",
      "            \"Descripción\": \"Actividades de telecomunicaciones inalámbricas\"\n",
      "        },\n",
      "        {\n",
      "            \"Código\": \"6190\",\n",
      "            \"Descripción\": \"Otras actividades de telecomunicaciones\"\n",
      "        }\n",
      "    ],\n",
      "    \"Representantes\": \"REPRESENTACION LEGAL (PRINCIPALES) ****  12144162 - DELGADO DIAZ WILSON DIVIER  REPRESENTACION LEGAL (SUPLENTES) ****  12144534 - SALAMANCA SALAZAR RODOLFO  FACULTADES ****  El gerente ejercera todas las funciones propias de la naturaleza de su cargo, y en especial, las siguientes: 1) representar a la sociedad ante los accionistas, ante terceros y ante toda clase de autoridades de orden administrativo y jurisdiccional. 2) ejecutar todos los actos u operaciones correspondientes al objeto social, hasta cuatrocientos (400) salarios minimos legales mensuales vigentes, de conformidad con lo previsto en las leyes y en estos estatutos, 3) autorizar con su firma todos los documentos publicos o privados que deban otorgarse en desarrollo de las actividades sociales o en interes de la sociedad. 4) presentar a la asamblea general en sus reuniones ordinarias, un inventario y un balance de fin de ejercicio, junto con un informe escrito sobre la situacion de la sociedad, un detalle completo de la cuenta de resultados y un proyecto de distribucion de utilidades obtenidas. 5) nombrar y remover los empleados de la sociedad cuyo nombramiento y remocion le delegue asamblea. 6) tomar todas las medidas que reclame la conservacion de los bienes sociales, vigilar la actividad de los empleados de la administracion de la sociedad e impartirles las ordenes e instrucciones que exija la buena marcha de la compañia. 7) convocar la asamblea general a reuniones extraordinarias cuando lo juzgue conveniente o necesario y hacer las convocatorias del caso cuando lo ordenen los estatutos. 8) cumplir las ordenes e instrucciones que le impartan la asamblea general y en particular, solicitar autorizaciones para los negocios que deben aprobar previamente la asamblea segun lo disponen las normas correspondientes del presente estatuto. 9 ) cumplir o hacer que se cumplan oportunamente todos los requisitos o exigencias legales que se relacionen con el funcionamiento y actividades de la sociedad. Paragrafo 1: Funciones del subgerente: Reemplazar al gerente en ausencias temporales o permanentes.\"\n",
      "}\n"
     ]
    }
   ],
   "source": [
    "# Crear un diccionario con toda la información obtenida\n",
    "informacion_empresa = {\n",
    "    \"NIT\": nit_empresa,\n",
    "    \"Razón Social\": razon_social, \n",
    "    \"Municipio/Departamento\": municipio_departamento,  \n",
    "    \"Número de Matrícula\": numero_matricula,\n",
    "    \"Último Año Renovado\": ultimo_anio_renovado,\n",
    "    \"Fecha de Renovación\": fecha_renovacion,\n",
    "    \"Fecha de Matrícula\": fecha_matricula,\n",
    "    \"Fecha de Vigencia\": fecha_vigencia,\n",
    "    \"Estado de la Matrícula\": estado_matricula,\n",
    "    \"Motivo de Cancelación\": motivo_cancelacion,\n",
    "    \"Tipo de Sociedad\": tipo_sociedad,\n",
    "    \"Tipo de Organización\": tipo_organizacion,\n",
    "    \"Categoría de la Matrícula\": categoria_matricula,\n",
    "    \"Fecha Última Actualización\": fecha_ultima_actualizacion,\n",
    "    \"Emprendimiento Social\": emprendimiento_social,\n",
    "    \"Actividades Económicas\": actividades_economicas,  # Lista de actividades con código y descripción\n",
    "    \"Representantes\": informacion_representantes  # Texto en formato limpio\n",
    "}\n",
    "\n",
    "# Imprimir la información de manera organizada\n",
    "import json\n",
    "print(json.dumps(informacion_empresa, indent=4, ensure_ascii=False))\n"
   ]
  }
 ],
 "metadata": {
  "kernelspec": {
   "display_name": ".venv",
   "language": "python",
   "name": "python3"
  },
  "language_info": {
   "codemirror_mode": {
    "name": "ipython",
    "version": 3
   },
   "file_extension": ".py",
   "mimetype": "text/x-python",
   "name": "python",
   "nbconvert_exporter": "python",
   "pygments_lexer": "ipython3",
   "version": "3.12.4"
  }
 },
 "nbformat": 4,
 "nbformat_minor": 2
}
